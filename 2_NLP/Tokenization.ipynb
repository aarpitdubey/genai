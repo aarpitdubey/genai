{
 "cells": [
  {
   "cell_type": "markdown",
   "metadata": {},
   "source": [
    "# Tokenization"
   ]
  },
  {
   "cell_type": "markdown",
   "metadata": {},
   "source": [
    "- Tokenization is a simple process where I can convert a corpus (Paragraph) into multiple documents (sentences) as well as multiple words as tokens."
   ]
  },
  {
   "cell_type": "code",
   "execution_count": 1,
   "metadata": {},
   "outputs": [],
   "source": [
    "# Define our corpus (paragraph)\n",
    "corpus = \"\"\"My name is ARPIT and I have interest in building projects related to Machine Learning, Data Science, Natural Language Processing, Deep Learning, Artificial Intellegence and Generative AI.\n",
    "            I'm also a Senior Data Scientist.\"\"\""
   ]
  },
  {
   "cell_type": "code",
   "execution_count": 2,
   "metadata": {},
   "outputs": [
    {
     "name": "stdout",
     "output_type": "stream",
     "text": [
      "My name is ARPIT and I have interest in building projects related to Machine Learning, Data Science, Natural Language Processing, Deep Learning, Artificial Intellegence and Generative AI.\n",
      "            I'm also a Senior Data Scientist.\n"
     ]
    }
   ],
   "source": [
    "print(corpus)"
   ]
  },
  {
   "cell_type": "code",
   "execution_count": 3,
   "metadata": {},
   "outputs": [],
   "source": [
    "# Paragraph into Sentences\n",
    "from nltk.tokenize import sent_tokenize"
   ]
  },
  {
   "cell_type": "code",
   "execution_count": 4,
   "metadata": {},
   "outputs": [
    {
     "data": {
      "text/plain": [
       "['My name is ARPIT and I have interest in building projects related to Machine Learning, Data Science, Natural Language Processing, Deep Learning, Artificial Intellegence and Generative AI.',\n",
       " \"I'm also a Senior Data Scientist.\"]"
      ]
     },
     "execution_count": 4,
     "metadata": {},
     "output_type": "execute_result"
    }
   ],
   "source": [
    "sent_tokenize(corpus)"
   ]
  },
  {
   "cell_type": "code",
   "execution_count": 5,
   "metadata": {},
   "outputs": [],
   "source": [
    "documents = sent_tokenize(corpus)"
   ]
  },
  {
   "cell_type": "code",
   "execution_count": 6,
   "metadata": {},
   "outputs": [
    {
     "data": {
      "text/plain": [
       "['My name is ARPIT and I have interest in building projects related to Machine Learning, Data Science, Natural Language Processing, Deep Learning, Artificial Intellegence and Generative AI.',\n",
       " \"I'm also a Senior Data Scientist.\"]"
      ]
     },
     "execution_count": 6,
     "metadata": {},
     "output_type": "execute_result"
    }
   ],
   "source": [
    "documents"
   ]
  },
  {
   "cell_type": "code",
   "execution_count": 7,
   "metadata": {},
   "outputs": [
    {
     "data": {
      "text/plain": [
       "'My name is ARPIT and I have interest in building projects related to Machine Learning, Data Science, Natural Language Processing, Deep Learning, Artificial Intellegence and Generative AI.'"
      ]
     },
     "execution_count": 7,
     "metadata": {},
     "output_type": "execute_result"
    }
   ],
   "source": [
    "documents[0]"
   ]
  },
  {
   "cell_type": "code",
   "execution_count": 8,
   "metadata": {},
   "outputs": [
    {
     "data": {
      "text/plain": [
       "\"I'm also a Senior Data Scientist.\""
      ]
     },
     "execution_count": 8,
     "metadata": {},
     "output_type": "execute_result"
    }
   ],
   "source": [
    "documents[1]"
   ]
  },
  {
   "cell_type": "code",
   "execution_count": 9,
   "metadata": {},
   "outputs": [],
   "source": [
    "# Tokenization\n",
    "## Paragraph to words\n",
    "## Sentence to words\n",
    "from nltk.tokenize import word_tokenize"
   ]
  },
  {
   "cell_type": "code",
   "execution_count": 10,
   "metadata": {},
   "outputs": [
    {
     "data": {
      "text/plain": [
       "['My',\n",
       " 'name',\n",
       " 'is',\n",
       " 'ARPIT',\n",
       " 'and',\n",
       " 'I',\n",
       " 'have',\n",
       " 'interest',\n",
       " 'in',\n",
       " 'building',\n",
       " 'projects',\n",
       " 'related',\n",
       " 'to',\n",
       " 'Machine',\n",
       " 'Learning',\n",
       " ',',\n",
       " 'Data',\n",
       " 'Science',\n",
       " ',',\n",
       " 'Natural',\n",
       " 'Language',\n",
       " 'Processing',\n",
       " ',',\n",
       " 'Deep',\n",
       " 'Learning',\n",
       " ',',\n",
       " 'Artificial',\n",
       " 'Intellegence',\n",
       " 'and',\n",
       " 'Generative',\n",
       " 'AI',\n",
       " '.',\n",
       " 'I',\n",
       " \"'m\",\n",
       " 'also',\n",
       " 'a',\n",
       " 'Senior',\n",
       " 'Data',\n",
       " 'Scientist',\n",
       " '.']"
      ]
     },
     "execution_count": 10,
     "metadata": {},
     "output_type": "execute_result"
    }
   ],
   "source": [
    "word_tokenize(corpus)"
   ]
  },
  {
   "cell_type": "code",
   "execution_count": 11,
   "metadata": {},
   "outputs": [
    {
     "name": "stdout",
     "output_type": "stream",
     "text": [
      "['My', 'name', 'is', 'ARPIT', 'and', 'I', 'have', 'interest', 'in', 'building', 'projects', 'related', 'to', 'Machine', 'Learning', ',', 'Data', 'Science', ',', 'Natural', 'Language', 'Processing', ',', 'Deep', 'Learning', ',', 'Artificial', 'Intellegence', 'and', 'Generative', 'AI', '.']\n",
      "['I', \"'m\", 'also', 'a', 'Senior', 'Data', 'Scientist', '.']\n"
     ]
    }
   ],
   "source": [
    "for sentence in documents:\n",
    "    print(word_tokenize(sentence))"
   ]
  },
  {
   "cell_type": "code",
   "execution_count": 12,
   "metadata": {},
   "outputs": [],
   "source": [
    "from nltk.tokenize import wordpunct_tokenize"
   ]
  },
  {
   "cell_type": "code",
   "execution_count": 13,
   "metadata": {},
   "outputs": [],
   "source": [
    "wordpunctdoc = wordpunct_tokenize(corpus)"
   ]
  },
  {
   "cell_type": "code",
   "execution_count": 14,
   "metadata": {},
   "outputs": [
    {
     "name": "stdout",
     "output_type": "stream",
     "text": [
      "['My']\n",
      "['name']\n",
      "['is']\n",
      "['ARPIT']\n",
      "['and']\n",
      "['I']\n",
      "['have']\n",
      "['interest']\n",
      "['in']\n",
      "['building']\n",
      "['projects']\n",
      "['related']\n",
      "['to']\n",
      "['Machine']\n",
      "['Learning']\n",
      "[',']\n",
      "['Data']\n",
      "['Science']\n",
      "[',']\n",
      "['Natural']\n",
      "['Language']\n",
      "['Processing']\n",
      "[',']\n",
      "['Deep']\n",
      "['Learning']\n",
      "[',']\n",
      "['Artificial']\n",
      "['Intellegence']\n",
      "['and']\n",
      "['Generative']\n",
      "['AI']\n",
      "['.']\n",
      "['I']\n",
      "[\"'\"]\n",
      "['m']\n",
      "['also']\n",
      "['a']\n",
      "['Senior']\n",
      "['Data']\n",
      "['Scientist']\n",
      "['.']\n"
     ]
    }
   ],
   "source": [
    "for sentence in wordpunctdoc:\n",
    "    print(wordpunct_tokenize(sentence))"
   ]
  },
  {
   "cell_type": "code",
   "execution_count": 15,
   "metadata": {},
   "outputs": [],
   "source": [
    "from nltk.tokenize import TreebankWordTokenizer"
   ]
  },
  {
   "cell_type": "code",
   "execution_count": 16,
   "metadata": {},
   "outputs": [],
   "source": [
    "tokenizer = TreebankWordTokenizer()"
   ]
  },
  {
   "cell_type": "code",
   "execution_count": 17,
   "metadata": {},
   "outputs": [
    {
     "data": {
      "text/plain": [
       "['My',\n",
       " 'name',\n",
       " 'is',\n",
       " 'ARPIT',\n",
       " 'and',\n",
       " 'I',\n",
       " 'have',\n",
       " 'interest',\n",
       " 'in',\n",
       " 'building',\n",
       " 'projects',\n",
       " 'related',\n",
       " 'to',\n",
       " 'Machine',\n",
       " 'Learning',\n",
       " ',',\n",
       " 'Data',\n",
       " 'Science',\n",
       " ',',\n",
       " 'Natural',\n",
       " 'Language',\n",
       " 'Processing',\n",
       " ',',\n",
       " 'Deep',\n",
       " 'Learning',\n",
       " ',',\n",
       " 'Artificial',\n",
       " 'Intellegence',\n",
       " 'and',\n",
       " 'Generative',\n",
       " 'AI.',\n",
       " 'I',\n",
       " \"'m\",\n",
       " 'also',\n",
       " 'a',\n",
       " 'Senior',\n",
       " 'Data',\n",
       " 'Scientist',\n",
       " '.']"
      ]
     },
     "execution_count": 17,
     "metadata": {},
     "output_type": "execute_result"
    }
   ],
   "source": [
    "tokenizer.tokenize(corpus)"
   ]
  }
 ],
 "metadata": {
  "kernelspec": {
   "display_name": "testopenai",
   "language": "python",
   "name": "python3"
  },
  "language_info": {
   "codemirror_mode": {
    "name": "ipython",
    "version": 3
   },
   "file_extension": ".py",
   "mimetype": "text/x-python",
   "name": "python",
   "nbconvert_exporter": "python",
   "pygments_lexer": "ipython3",
   "version": "3.8.18"
  }
 },
 "nbformat": 4,
 "nbformat_minor": 2
}
