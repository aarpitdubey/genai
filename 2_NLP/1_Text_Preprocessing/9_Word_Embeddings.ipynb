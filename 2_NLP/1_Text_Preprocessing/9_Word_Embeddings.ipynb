{
 "cells": [
  {
   "cell_type": "markdown",
   "metadata": {},
   "source": [
    "### Word Embeddings\n",
    "\n",
    "In natural language processing (NLP), word embedding in a term used for the representation of words for text analysis, typically in the form of a real-valued vector that encodes the meaning of the word such that the word such that the words that are closer in the vector space are expected to be similar in meaning."
   ]
  },
  {
   "cell_type": "code",
   "execution_count": null,
   "metadata": {},
   "outputs": [],
   "source": []
  }
 ],
 "metadata": {
  "language_info": {
   "name": "python"
  }
 },
 "nbformat": 4,
 "nbformat_minor": 2
}
